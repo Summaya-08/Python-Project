{
 "cells": [
  {
   "cell_type": "markdown",
   "id": "00fef918",
   "metadata": {},
   "source": [
    "# Step to create an otp verification system\n"
   ]
  },
  {
   "cell_type": "code",
   "execution_count": 1,
   "id": "1cb81d17",
   "metadata": {},
   "outputs": [],
   "source": [
    "# 1.first we will create six digit random code.\n",
    "#2. we will store this number in variable\n",
    "#3.after that we need to write a program to send the email \n",
    "#.4 when sending the email we need to use the OTP as a message\n",
    "#.5Finally we need to request a two user input,first for the user's email then for OTP that the user has received"
   ]
  },
  {
   "cell_type": "code",
   "execution_count": 3,
   "id": "d0e8103e",
   "metadata": {},
   "outputs": [],
   "source": [
    "import os\n",
    "import math\n",
    "import random\n",
    "import smtplib"
   ]
  },
  {
   "cell_type": "code",
   "execution_count": 4,
   "id": "cc09ff54",
   "metadata": {},
   "outputs": [],
   "source": [
    "digits = \"0123456789\"\n",
    "OTP = \" \""
   ]
  },
  {
   "cell_type": "code",
   "execution_count": 7,
   "id": "19bbd765",
   "metadata": {},
   "outputs": [],
   "source": [
    "for i in range (6):\n",
    "    OTP+=digits[math.floor(random.random()*10)]\n",
    "    otp = OTP + \" is your otp\"\n",
    "    msg = otp"
   ]
  },
  {
   "cell_type": "code",
   "execution_count": 12,
   "id": "eefeb040",
   "metadata": {},
   "outputs": [
    {
     "data": {
      "text/plain": [
       "(220, b'2.0.0 Ready to start TLS')"
      ]
     },
     "execution_count": 12,
     "metadata": {},
     "output_type": "execute_result"
    }
   ],
   "source": [
    "s=smtplib.SMTP('smtp.gmail.com',587)\n",
    "s.starttls()\n"
   ]
  },
  {
   "cell_type": "code",
   "execution_count": 13,
   "id": "076fb191",
   "metadata": {},
   "outputs": [
    {
     "data": {
      "text/plain": [
       "(235, b'2.7.0 Accepted')"
      ]
     },
     "execution_count": 13,
     "metadata": {},
     "output_type": "execute_result"
    }
   ],
   "source": [
    "s.login(\"Please enter your email\",\"your app password\")\n"
   ]
  },
  {
   "cell_type": "code",
   "execution_count": 18,
   "id": "8aa6db1d",
   "metadata": {},
   "outputs": [
    {
     "name": "stdout",
     "output_type": "stream",
     "text": [
      "please enter your email: thapasummaya@gmail.com\n",
      "please enter your otp :  701995\n"
     ]
    }
   ],
   "source": [
    "email =input(\"please enter your email: \")\n",
    "s.sendmail(\"&&&&&&&&&&&\",email,msg)\n",
    "a=input(\"please enter your otp : \")\n",
    "\n"
   ]
  },
  {
   "cell_type": "code",
   "execution_count": 19,
   "id": "3315dac2",
   "metadata": {},
   "outputs": [
    {
     "name": "stdout",
     "output_type": "stream",
     "text": [
      "your OTP is verified\n"
     ]
    }
   ],
   "source": [
    "if a==OTP:\n",
    "    print(\"your OTP is verified\")\n",
    "else:\n",
    "    print(\"Invalid OTP\")\n"
   ]
  },
  {
   "cell_type": "code",
   "execution_count": null,
   "id": "4f408093",
   "metadata": {},
   "outputs": [],
   "source": []
  }
 ],
 "metadata": {
  "kernelspec": {
   "display_name": "Python 3 (ipykernel)",
   "language": "python",
   "name": "python3"
  },
  "language_info": {
   "codemirror_mode": {
    "name": "ipython",
    "version": 3
   },
   "file_extension": ".py",
   "mimetype": "text/x-python",
   "name": "python",
   "nbconvert_exporter": "python",
   "pygments_lexer": "ipython3",
   "version": "3.11.5"
  }
 },
 "nbformat": 4,
 "nbformat_minor": 5
}
